{
  "nbformat": 4,
  "nbformat_minor": 0,
  "metadata": {
    "colab": {
      "name": "final-training.ipynb",
      "provenance": [],
      "collapsed_sections": []
    },
    "kernelspec": {
      "display_name": "Python 3",
      "language": "python",
      "name": "python3"
    },
    "language_info": {
      "codemirror_mode": {
        "name": "ipython",
        "version": 3
      },
      "file_extension": ".py",
      "mimetype": "text/x-python",
      "name": "python",
      "nbconvert_exporter": "python",
      "pygments_lexer": "ipython3",
      "version": "3.6.4"
    }
  },
  "cells": [
    {
      "cell_type": "code",
      "metadata": {
        "colab": {
          "base_uri": "https://localhost:8080/"
        },
        "id": "94b9nuAGgUK1",
        "outputId": "4aee48a1-1fc6-43e2-8dd3-9791bb0b97ad"
      },
      "source": [
        "from google.colab import drive\n",
        "drive.mount('/content/drive')"
      ],
      "execution_count": null,
      "outputs": [
        {
          "output_type": "stream",
          "text": [
            "Go to this URL in a browser: https://accounts.google.com/o/oauth2/auth?client_id=947318989803-6bn6qk8qdgf4n4g3pfee6491hc0brc4i.apps.googleusercontent.com&redirect_uri=urn%3aietf%3awg%3aoauth%3a2.0%3aoob&scope=email%20https%3a%2f%2fwww.googleapis.com%2fauth%2fdocs.test%20https%3a%2f%2fwww.googleapis.com%2fauth%2fdrive%20https%3a%2f%2fwww.googleapis.com%2fauth%2fdrive.photos.readonly%20https%3a%2f%2fwww.googleapis.com%2fauth%2fpeopleapi.readonly%20https%3a%2f%2fwww.googleapis.com%2fauth%2fdrive.activity.readonly%20https%3a%2f%2fwww.googleapis.com%2fauth%2fexperimentsandconfigs%20https%3a%2f%2fwww.googleapis.com%2fauth%2fphotos.native&response_type=code\n",
            "\n",
            "Enter your authorization code:\n",
            "4/1AX4XfWiTr1EyPHH4u7D7_Fmg1wbc6rWNalDifGH724XftSrLKgmj1k8jo3A\n"
          ],
          "name": "stdout"
        }
      ]
    },
    {
      "cell_type": "code",
      "metadata": {
        "id": "K74eTXddfpAG"
      },
      "source": [
        "import matplotlib.pyplot as plt\n",
        "import matplotlib.image as mpimg\n",
        "\n",
        "from PIL import Image\n",
        "\n",
        "import spacy\n",
        "\n",
        "import torch\n",
        "from torch.nn.utils.rnn import pad_sequence\n",
        "from torch.utils.data import DataLoader,Dataset\n",
        "import torchvision.transforms as T\n",
        "import torch.nn as nn\n",
        "import torch.nn.functional as F\n",
        "import torch.optim as optim\n",
        "import torchvision.models as models\n",
        "\n",
        "import numpy as np\n",
        "import pandas as pd\n",
        "import os\n",
        "\n",
        "from collections import Counter"
      ],
      "execution_count": null,
      "outputs": []
    },
    {
      "cell_type": "code",
      "metadata": {
        "id": "osmd9d89fpAS"
      },
      "source": [
        "#Attention Decoder\n",
        "class DecoderRNN(nn.Module):\n",
        "    def __init__(self,embed_size, vocab_size, attention_dim,encoder_dim,decoder_dim,drop_prob=0.3):\n",
        "        super().__init__()\n",
        "        \n",
        "        self.vocab_size = vocab_size\n",
        "        self.attention_dim = attention_dim\n",
        "        self.decoder_dim = decoder_dim\n",
        "        \n",
        "        self.embedding = nn.Embedding(vocab_size,embed_size)\n",
        "        self.attention = Attention(encoder_dim,decoder_dim,attention_dim)\n",
        "        \n",
        "        self.init_h = nn.Linear(encoder_dim, decoder_dim)  \n",
        "        self.init_c = nn.Linear(encoder_dim, decoder_dim)  \n",
        "        self.lstm_cell = nn.LSTMCell(embed_size+encoder_dim,decoder_dim,bias=True)\n",
        "        self.f_beta = nn.Linear(decoder_dim, encoder_dim)\n",
        "        \n",
        "        self.fcn = nn.Linear(decoder_dim,vocab_size)\n",
        "        self.drop = nn.Dropout(drop_prob)\n",
        "        \n",
        "    def forward(self, features, captions):\n",
        "        \n",
        "        embeds = self.embedding(captions)\n",
        "        \n",
        "        h, c = self.init_hidden_state(features)\n",
        "      \n",
        "        seq_length = len(captions[0])-1\n",
        "        batch_size = captions.size(0)\n",
        "        num_features = features.size(1)\n",
        "        \n",
        "        preds = torch.zeros(batch_size, seq_length, self.vocab_size).to(device)\n",
        "        alphas = torch.zeros(batch_size, seq_length,num_features).to(device)\n",
        "                \n",
        "        for s in range(seq_length):\n",
        "            alpha,context = self.attention(features, h)\n",
        "            lstm_input = torch.cat((embeds[:, s], context), dim=1)\n",
        "            h, c = self.lstm_cell(lstm_input, (h, c))\n",
        "                    \n",
        "            output = self.fcn(self.drop(h))\n",
        "            \n",
        "            preds[:,s] = output\n",
        "            alphas[:,s] = alpha  \n",
        "        \n",
        "        return preds, alphas\n",
        "    \n",
        "    # Generate captions based on image features\n",
        "    def generate_caption(self,features,vocab,max_len=20):\n",
        "        \n",
        "        batch_size = features.size(0)\n",
        "        h, c = self.init_hidden_state(features)\n",
        "        \n",
        "        alphas = []\n",
        "        \n",
        "        word = torch.tensor(vocab.stoi['<SOS>']).view(1,-1).to(device)\n",
        "        embeds = self.embedding(word)\n",
        "\n",
        "        captions = []\n",
        "        \n",
        "        for i in range(max_len):\n",
        "            alpha,context = self.attention(features, h)\n",
        "        \n",
        "            alphas.append(alpha.cpu().detach().numpy())\n",
        "            \n",
        "            lstm_input = torch.cat((embeds[:, 0], context), dim=1)\n",
        "            h, c = self.lstm_cell(lstm_input, (h, c))\n",
        "            output = self.fcn(self.drop(h))\n",
        "            output = output.view(batch_size,-1)\n",
        "        \n",
        "            predicted_word_idx = output.argmax(dim=1)    \n",
        "            captions.append(predicted_word_idx.item())\n",
        "            \n",
        "            if vocab.itos[predicted_word_idx.item()] == \"<EOS>\":\n",
        "                break\n",
        "            \n",
        "            embeds = self.embedding(predicted_word_idx.unsqueeze(0))\n",
        "        \n",
        "        return [vocab.itos[idx] for idx in captions],alphas\n",
        "    \n",
        "    def init_hidden_state(self, encoder_out):\n",
        "        mean_encoder_out = encoder_out.mean(dim=1)\n",
        "        h = self.init_h(mean_encoder_out)  # (batch_size, decoder_dim)\n",
        "        c = self.init_c(mean_encoder_out)\n",
        "        return h, c\n",
        "\n",
        "        def forward(self, features, captions):\n",
        "        \n",
        "        embeds = self.embedding(captions)\n",
        "        \n",
        "        h, c = self.init_hidden_state(features)\n",
        "      \n",
        "        seq_length = len(captions[0])-1\n",
        "        batch_size = captions.size(0)\n",
        "        num_features = features.size(1)\n",
        "        \n",
        "        preds = torch.zeros(batch_size, seq_length, self.vocab_size).to(device)\n",
        "        alphas = torch.zeros(batch_size, seq_length,num_features).to(device)\n",
        "                \n",
        "        for s in range(seq_length):\n",
        "            alpha,context = self.attention(features, h)\n",
        "            lstm_input = torch.cat((embeds[:, s], context), dim=1)\n",
        "            h, c = self.lstm_cell(lstm_input, (h, c))\n",
        "                    \n",
        "            output = self.fcn(self.drop(h))\n",
        "            \n",
        "            preds[:,s] = output\n",
        "            alphas[:,s] = alpha  \n",
        "        \n",
        "        return preds, alphas"
      ],
      "execution_count": null,
      "outputs": []
    },
    {
      "cell_type": "code",
      "metadata": {
        "id": "u67ZnwQYfpAN"
      },
      "source": [
        "class Vocabulary:\n",
        "    def __init__(self,freq_threshold):\n",
        "        self.itos = {0:\"<PAD>\",2:\"<EOS>\",3:\"<UNK>\",1:\"<SOS>\"}\n",
        "        self.stoi = {v:k for k,v in self.itos.items()}\n",
        "        self.freq_threshold = freq_threshold\n",
        "        \n",
        "    def __len__(self): \n",
        "      return len(self.itos)\n",
        "    \n",
        "    @staticmethod\n",
        "    def tokenize(text):\n",
        "        return [token.text.lower() for token in spacy_eng.tokenizer(text)]\n",
        "    \n",
        "    def build_vocab(self, sentence_list):\n",
        "        frequencies = Counter()\n",
        "        idx = 4\n",
        "        \n",
        "        for sentence in sentence_list:\n",
        "            for word in self.tokenize(sentence):\n",
        "                frequencies[word] += 1\n",
        "                if frequencies[word] == self.freq_threshold:\n",
        "                    self.stoi[word] = idx\n",
        "                    self.itos[idx] = word\n",
        "                    idx += 1\n",
        "    \n",
        "    def numericalize(self,text):\n",
        "        tokenized_text = self.tokenize(text)\n",
        "        return [ self.stoi[token] if token in self.stoi else self.stoi[\"<UNK>\"] for token in tokenized_text ]"
      ],
      "execution_count": null,
      "outputs": []
    },
    {
      "cell_type": "code",
      "metadata": {
        "id": "gDB8dApEfpAQ"
      },
      "source": [
        "class CapsCollate:\n",
        "    def __init__(self,pad_idx,batch_first=False):\n",
        "        self.pad_idx = pad_idx\n",
        "        self.batch_first = batch_first\n",
        "    \n",
        "    def __call__(self,batch):\n",
        "        imgs = [item[0].unsqueeze(0) for item in batch]\n",
        "        imgs = torch.cat(imgs,dim=0)\n",
        "        \n",
        "        targets = [item[1] for item in batch]\n",
        "        targets = pad_sequence(targets, batch_first=self.batch_first, padding_value=self.pad_idx)\n",
        "        return imgs,targets"
      ],
      "execution_count": null,
      "outputs": []
    },
    {
      "cell_type": "code",
      "metadata": {
        "id": "jeFfFtzPfpAS"
      },
      "source": [
        "#An implementation of Bahdanau Attention\n",
        "class Attention(nn.Module):\n",
        "    def __init__(self, encoder_dim,decoder_dim,attention_dim):\n",
        "        super(Attention, self).__init__()\n",
        "        \n",
        "        self.attention_dim = attention_dim\n",
        "        \n",
        "        self.W = nn.Linear(decoder_dim,attention_dim)\n",
        "        self.U = nn.Linear(encoder_dim,attention_dim)\n",
        "        self.A = nn.Linear(attention_dim,1)\n",
        "        \n",
        "    def forward(self, features, hidden_state):\n",
        "        u_hs = self.U(features)     \n",
        "        w_ah = self.W(hidden_state)\n",
        "        \n",
        "        combined_states = torch.tanh(u_hs + w_ah.unsqueeze(1)) \n",
        "        \n",
        "        attention_scores = self.A(combined_states)         \n",
        "        attention_scores = attention_scores.squeeze(2)     \n",
        "        \n",
        "        alpha = F.softmax(attention_scores,dim=1)          \n",
        "        \n",
        "        attention_weights = features * alpha.unsqueeze(2)  \n",
        "        attention_weights = attention_weights.sum(dim=1)   \n",
        "        \n",
        "        return alpha,attention_weights"
      ],
      "execution_count": null,
      "outputs": []
    },
    {
      "cell_type": "code",
      "metadata": {
        "id": "HUJEt-KwfpAT"
      },
      "source": [
        "class EncoderDecoder(nn.Module):\n",
        "    def __init__(self,embed_size, vocab_size, attention_dim,encoder_dim,decoder_dim,drop_prob=0.3):\n",
        "        super().__init__()\n",
        "        self.encoder = EncoderCNN()\n",
        "        self.decoder = DecoderRNN(\n",
        "            embed_size=embed_size,\n",
        "            vocab_size = len(dataset.vocab),\n",
        "            attention_dim=attention_dim,\n",
        "            encoder_dim=encoder_dim,\n",
        "            decoder_dim=decoder_dim\n",
        "        )\n",
        "        \n",
        "    def forward(self, images, captions):\n",
        "        features = self.encoder(images)\n",
        "        outputs = self.decoder(features, captions)\n",
        "        return outputs"
      ],
      "execution_count": null,
      "outputs": []
    },
    {
      "cell_type": "code",
      "metadata": {
        "id": "yuHjhLoufpAS"
      },
      "source": [
        "class EncoderCNN(nn.Module):\n",
        "    def __init__(self):\n",
        "        super(EncoderCNN, self).__init__()\n",
        "        resnet = models.resnet50(pretrained=True)\n",
        "        for param in resnet.parameters():\n",
        "            param.requires_grad_(False)\n",
        "        \n",
        "        modules = list(resnet.children())[:-2]\n",
        "        self.resnet = nn.Sequential(*modules)\n",
        "        \n",
        "    def forward(self, image):\n",
        "        feat = self.resnet(image)                                    \n",
        "        feat = feat.permute(0, 2, 3, 1)                           \n",
        "        feat = feat.view(feat.size(0), -1, feat.size(-1)) \n",
        "        return feat"
      ],
      "execution_count": null,
      "outputs": []
    },
    {
      "cell_type": "code",
      "metadata": {
        "id": "EeSbQg_zfpAN"
      },
      "source": [
        "class FlickrDataset(Dataset):\n",
        "  \n",
        "    def __init__(self,root_dir,captions_file,transform=None,freq_threshold=5):\n",
        "        self.root_dir = root_dir\n",
        "        self.df = pd.read_csv(caption_file)\n",
        "        self.transform = transform\n",
        "        \n",
        "        self.imgs = self.df[\"image\"]\n",
        "        self.captions = self.df[\"caption\"]\n",
        "        \n",
        "        self.vocab = Vocabulary(freq_threshold)\n",
        "        self.vocab.build_vocab(self.captions.tolist())\n",
        "\n",
        "    def __getitem__(self,idx):\n",
        "    caption = self.captions[idx]\n",
        "    img_name = self.imgs[idx]\n",
        "    img_location = os.path.join(self.root_dir,img_name)\n",
        "    img = Image.open(img_location).convert(\"RGB\")\n",
        "    \n",
        "    if self.transform is not None:\n",
        "        img = self.transform(img)\n",
        "    \n",
        "    caption_vec = []\n",
        "    caption_vec += [self.vocab.stoi[\"<SOS>\"]]\n",
        "    caption_vec += self.vocab.numericalize(caption)\n",
        "    caption_vec += [self.vocab.stoi[\"<EOS>\"]]\n",
        "    \n",
        "    return img, torch.tensor(caption_vec)\n",
        "        \n",
        "    def __len__(self):\n",
        "        return len(self.df )"
      ],
      "execution_count": null,
      "outputs": []
    },
    {
      "cell_type": "code",
      "metadata": {
        "colab": {
          "base_uri": "https://localhost:8080/"
        },
        "id": "6oZRlW6UfpAQ",
        "outputId": "748f7b3a-c797-4eeb-eb3d-6daddaaca419"
      },
      "source": [
        "# Hyper Parameters\n",
        "embed_size=120\n",
        "vocab_size = len(dataset.vocab)\n",
        "attention_dim=64\n",
        "encoder_dim=2000\n",
        "decoder_dim=100\n",
        "learning_rate = 0.005\n",
        "epochs = 20\n",
        "print_every_iter = 1\n",
        "\n",
        "#Set path to data\n",
        "path_to_data =  \"/content/drive/MyDrive/final-project/Data\"\n",
        "\n",
        "# load SPACY's english training pipeline\n",
        "spacy_eng = spacy.load(\"en\")\n",
        "\n",
        "#setting batch size and number of workers\n",
        "BATCH_SIZE = 512\n",
        "NUM_WORKER = 2\n",
        "\n",
        "#resizing\n",
        "transforms = T.Compose([\n",
        "    T.Resize((256,256)),\n",
        "    T.ToTensor()\n",
        "])\n",
        "\n",
        "#dataset for training\n",
        "dataset =  FlickrDataset(\n",
        "    root_dir = path_to_data +\"/new-images\",\n",
        "    captions_file = path_to_data +\"/captions.txt\",\n",
        "    transform=transforms\n",
        ")\n",
        "\n",
        "\n",
        "pad_idx = dataset.vocab.stoi[\"<PAD>\"]\n",
        "\n",
        "#Initiate the dataloader and retrieve data\n",
        "data_loader = DataLoader(\n",
        "    dataset=dataset,\n",
        "    batch_size=BATCH_SIZE,\n",
        "    num_workers=NUM_WORKER,\n",
        "    shuffle=True,\n",
        "    collate_fn=CapsCollate(pad_idx=pad_idx,batch_first=True)\n",
        ")\n",
        "vocab_size = len(dataset.vocab)\n",
        "\n",
        "device = torch.device(\"cpu\")"
      ],
      "execution_count": null,
      "outputs": [
        {
          "output_type": "execute_result",
          "data": {
            "text/plain": [
              "device(type='cpu')"
            ]
          },
          "metadata": {
            "tags": []
          },
          "execution_count": 10
        }
      ]
    },
    {
      "cell_type": "code",
      "metadata": {
        "id": "ULi7k5gafpAU"
      },
      "source": [
        "#Initialize the model\n",
        "model = EncoderDecoder(\n",
        "    embed_size=120,\n",
        "    vocab_size = len(dataset.vocab),\n",
        "    attention_dim=64,\n",
        "    encoder_dim=2000,\n",
        "    decoder_dim=100\n",
        ").to(device)\n",
        "\n",
        "criterion = nn.CrossEntropyLoss(ignore_index=dataset.vocab.stoi[\"<PAD>\"])\n",
        "optimizer = optim.Adam(model.parameters(), lr=learning_rate)"
      ],
      "execution_count": null,
      "outputs": []
    },
    {
      "cell_type": "code",
      "metadata": {
        "id": "7cbjn9cWfpAU"
      },
      "source": [
        "# helper function for saving the model into a file\n",
        "def save_model(model,num_epochs):\n",
        "    model_state = {\n",
        "        'epochs':num_epochs,\n",
        "        'embed_size':embed_size,\n",
        "        'vocab_size':len(dataset.vocab),\n",
        "        'attention_dim':attention_dim,\n",
        "        'encoder_dim':encoder_dim,\n",
        "        'decoder_dim':decoder_dim,\n",
        "        'state_dict':model.state_dict()\n",
        "    }\n",
        "\n",
        "    torch.save(model_state,'final-model.pth')\n",
        "\n",
        "# helper function for displaying the images trained\n",
        "def show_image(inp, title=None):\n",
        "    inp = inp.numpy().transpose((1, 2, 0))\n",
        "    plt.imshow(inp)\n",
        "    if title is not None:\n",
        "        plt.title(title)\n",
        "    plt.pause(0.0015)  # wait for plots to be updated"
      ],
      "execution_count": null,
      "outputs": []
    },
    {
      "cell_type": "code",
      "metadata": {
        "colab": {
          "background_save": true
        },
        "id": "1CKgUAX2fpAV"
      },
      "source": [
        "accuracy_plot = []\n",
        "loss_plot = []\n",
        "for epoch in range(1,epochs+1):   \n",
        "    total_loss = 0\n",
        "    total_accuracy = 0\n",
        "    for idx, (image, captions) in enumerate(iter(data_loader)):\n",
        "        image,captions = image.to(device),captions.to(device)\n",
        "\n",
        "        # gradients = 0\n",
        "        optimizer.zero_grad()\n",
        "\n",
        "        # Executing a forward pass\n",
        "        outputs,attentions = model(image, captions)\n",
        "\n",
        "        targets = captions[:,1:]\n",
        "        loss = criterion(outputs.view(-1, vocab_size), targets.reshape(-1))\n",
        "        total_loss += loss\n",
        "        # Executing a backward pass\n",
        "        loss.backward()\n",
        "\n",
        "        optimizer.step()\n",
        "\n",
        "        if (idx+1)%print_every_iter == 0:\n",
        "            print(\"Epoch: {} loss: {:.5f}\".format(epoch,loss.item()))\n",
        "            \n",
        "            \n",
        "            model.eval()\n",
        "            with torch.no_grad():\n",
        "                dataiter = iter(data_loader)\n",
        "                img,_ = next(dataiter)\n",
        "                features = model.encoder(img[0:1].to(device))\n",
        "                caps,alphas = model.decoder.generate_caption(features,vocab=dataset.vocab)\n",
        "                caption = ' '.join(caps)\n",
        "                total_accuracy += corpus_bleu(caption, captions)\n",
        "\n",
        "                \n",
        "            model.train()\n",
        "    \n",
        "    loss_plot.append(total_loss / num_steps)   \n",
        "    accuracy_plot.append(total_accuracy/num_steps)\n",
        "    save_model(model,epoch)\n",
        "\n",
        "plt.plot(loss_plot)\n",
        "plt.xlabel('Epochs')\n",
        "plt.ylabel('Loss')\n",
        "plt.title('Loss Plot')\n",
        "plt.show()\n",
        "\n",
        "plt.plot(acuracy_plot)\n",
        "plt.xlabel('Epochs')\n",
        "plt.ylabel('Accuracy')\n",
        "plt.title('Accuracy Plot')\n",
        "plt.show()"
      ],
      "execution_count": null,
      "outputs": []
    },
    {
      "cell_type": "markdown",
      "metadata": {
        "id": "yv0JuGKsfhvu"
      },
      "source": [
        "### TESTING FUNCTIONS"
      ]
    },
    {
      "cell_type": "code",
      "metadata": {
        "id": "R4VuzUMnfkdN"
      },
      "source": [
        "#generate caption\n",
        "def get_caps_from(features_tensors):\n",
        "    model.eval()\n",
        "    with torch.no_grad():\n",
        "        features = model.encoder(features_tensors.to(device))\n",
        "        caps,alphas = model.decoder.generate_caption(features,vocab=dataset.vocab)\n",
        "        caption = ' '.join(caps)\n",
        "        show_image(features_tensors[0],title=caption)\n",
        "    \n",
        "    return caps,alphas\n",
        "\n",
        "def plot_attention(img, result, attention_plot):\n",
        "    \n",
        "    img = img.numpy().transpose((1, 2, 0))\n",
        "    temp_image = img\n",
        "\n",
        "    fig = plt.figure(figsize=(15, 15))\n",
        "\n",
        "    len_result = len(result)\n",
        "    for l in range(len_result):\n",
        "        temp_att = attention_plot[l].reshape(7,7)\n",
        "        \n",
        "        ax = fig.add_subplot(len_result//2,len_result//2, l+1)\n",
        "        ax.set_title(result[l])\n",
        "        img = ax.imshow(temp_image)\n",
        "        ax.imshow(temp_att, cmap='gray', alpha=0.7, extent=img.get_extent())\n",
        "        \n",
        "\n",
        "    plt.tight_layout()\n",
        "    plt.show()"
      ],
      "execution_count": null,
      "outputs": []
    }
  ]
}